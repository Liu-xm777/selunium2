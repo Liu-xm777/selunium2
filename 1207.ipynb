{
 "cells": [
  {
   "cell_type": "code",
   "execution_count": 6,
   "id": "8df2b60b",
   "metadata": {},
   "outputs": [
    {
     "name": "stdout",
     "output_type": "stream",
     "text": [
      "網址錯誤 name 'resp_status_code' is not defined\n"
     ]
    }
   ],
   "source": [
    "from tools import get_soup\n",
    "fb_sr='https://www.facebook.com/search/top?q=%E8%97%8D%E7%99%BD%E5%90%88'\n",
    "fbsoup=get_soup(fb_sr)\n",
    "fbsoup"
   ]
  },
  {
   "cell_type": "code",
   "execution_count": 75,
   "id": "aa6989dd",
   "metadata": {},
   "outputs": [
    {
     "data": {
      "text/plain": [
       "<selenium.webdriver.chrome.service.Service at 0x110152d10>"
      ]
     },
     "execution_count": 75,
     "metadata": {},
     "output_type": "execute_result"
    }
   ],
   "source": [
    "from bs4 import BeautifulSoup\n",
    "from selenium.webdriver.common.keys import Keys\n",
    "from selenium.webdriver.support.ui import WebDriverWait\n",
    "from selenium.webdriver.support import expected_conditions as EC\n",
    "from selenium.common.exceptions import TimeoutException\n",
    "from selenium.common.exceptions import NoSuchElementException\n",
    "from selenium import webdriver\n",
    "from selenium.webdriver.chrome.service import Service\n",
    "from selenium.webdriver.common.by import By\n",
    "import time\n",
    "path = r'/Users/liuximu/Desktop/chromedriver-mac-arm64/chromedriver'\n",
    "service=Service(executable_path=path)\n",
    "service\n"
   ]
  },
  {
   "cell_type": "code",
   "execution_count": 95,
   "id": "b04907f1",
   "metadata": {},
   "outputs": [],
   "source": [
    "url = 'https://mbasic.facebook.com'\n",
    "driver = webdriver.Chrome()\n",
    "driver.get(url)"
   ]
  },
  {
   "cell_type": "code",
   "execution_count": 78,
   "id": "72850f9f",
   "metadata": {},
   "outputs": [],
   "source": [
    "chrome=webdriver.Chrome(service=service)\n",
    "chrome.get('https://mbasic.facebook.com/?stype=lo&deoia=1&jlou=AfcEMc_0Iw6CxVha6m7gFMAhd624gf2OPolxBT1uAaLozDrFWa3MWoppVOXG1MPkX9LTJOktx0yTy1-a99KsbZKV3AFk9vT3eYZywDTrUdXyYA&smuh=18962&lh=Ac8fgwV-IwHBt8woCdQ&_rdr')\n",
    "time.sleep(5)\n",
    "input_xpath='/html/body/div/div/div[2]/div/table/tbody/tr/td/div[2]/div/div[2]/form/ul/li[1]/input'\n",
    "element = chrome.find_element(By.XPATH, input_xpath)\n",
    "element.send_keys('')"
   ]
  },
  {
   "cell_type": "code",
   "execution_count": 79,
   "id": "d9ffd6aa",
   "metadata": {},
   "outputs": [],
   "source": [
    "input_xpaths='/html/body/div/div/div[2]/div/table/tbody/tr/td/div[2]/div/div[2]/form/ul/li[2]/section/input'\n",
    "elementa = chrome.find_element(By.XPATH, input_xpaths)\n",
    "elementa.send_keys('')"
   ]
  },
  {
   "cell_type": "code",
   "execution_count": 80,
   "id": "870d008b",
   "metadata": {},
   "outputs": [],
   "source": [
    "button_xpath='/html/body/div/div/div[2]/div/table/tbody/tr/td/div[2]/div/div[2]/form/ul/li[3]/input'\n",
    "button=chrome.find_element(By.XPATH,button_xpath)\n",
    "button.click()"
   ]
  },
  {
   "cell_type": "code",
   "execution_count": 81,
   "id": "e69f7ac9",
   "metadata": {},
   "outputs": [],
   "source": [
    "input_sdhz='/html/body/div/div/div[1]/div/form/table/tbody/tr/td[2]/input'\n",
    "elementa = chrome.find_element(By.XPATH, input_sdhz)\n",
    "elementa.send_keys('山道猴子')"
   ]
  },
  {
   "cell_type": "code",
   "execution_count": 82,
   "id": "c4759ed8",
   "metadata": {},
   "outputs": [],
   "source": [
    "button_xpaths='/html/body/div/div/div[1]/div/form/table/tbody/tr/td[3]/input'\n",
    "button=chrome.find_element(By.XPATH,button_xpaths)\n",
    "button.click()"
   ]
  },
  {
   "cell_type": "code",
   "execution_count": 83,
   "id": "71f51484",
   "metadata": {},
   "outputs": [],
   "source": [
    "button_xpathss='/html/body/div/div/div[2]/div[2]/div[1]/div[1]/div/a[2]'\n",
    "buttons=chrome.find_element(By.XPATH,button_xpathss)\n",
    "buttons.click()"
   ]
  },
  {
   "cell_type": "code",
   "execution_count": 85,
   "id": "3644dfec",
   "metadata": {},
   "outputs": [],
   "source": [
    "button_xpathsss='/html/body/div/div/div[2]/div/table/tbody/tr/td/ul/li[2]/table/tbody/tr/td/a'\n",
    "buttonss=chrome.find_element(By.XPATH,button_xpathsss)\n",
    "buttonss.click()"
   ]
  },
  {
   "cell_type": "code",
   "execution_count": 100,
   "id": "f18c39b8",
   "metadata": {},
   "outputs": [
    {
     "ename": "IndexError",
     "evalue": "list index out of range",
     "output_type": "error",
     "traceback": [
      "\u001b[0;31m---------------------------------------------------------------------------\u001b[0m",
      "\u001b[0;31mIndexError\u001b[0m                                Traceback (most recent call last)",
      "Cell \u001b[0;32mIn[100], line 4\u001b[0m\n\u001b[1;32m      2\u001b[0m soup \u001b[38;5;241m=\u001b[39m Soup(driver\u001b[38;5;241m.\u001b[39mpage_source, \u001b[38;5;124m\"\u001b[39m\u001b[38;5;124mlxml\u001b[39m\u001b[38;5;124m\"\u001b[39m)\n\u001b[1;32m      3\u001b[0m frames \u001b[38;5;241m=\u001b[39m soup\u001b[38;5;241m.\u001b[39mfind_all(class_\u001b[38;5;241m=\u001b[39m\u001b[38;5;124m\"\u001b[39m\u001b[38;5;124mcc cd ce\u001b[39m\u001b[38;5;124m\"\u001b[39m)\n\u001b[0;32m----> 4\u001b[0m name \u001b[38;5;241m=\u001b[39m frames[\u001b[38;5;241m0\u001b[39m]\u001b[38;5;241m.\u001b[39mfind(\u001b[38;5;124m'\u001b[39m\u001b[38;5;124mspan\u001b[39m\u001b[38;5;124m'\u001b[39m)\u001b[38;5;241m.\u001b[39mtext\n",
      "\u001b[0;31mIndexError\u001b[0m: list index out of range"
     ]
    }
   ],
   "source": [
    "from bs4 import BeautifulSoup as Soup\n",
    "soup = Soup(driver.page_source, \"lxml\")\n",
    "frames = soup.find_all(class_=\"cc cd ce\")\n",
    "name = frames[0].find('span').text"
   ]
  },
  {
   "cell_type": "code",
   "execution_count": null,
   "id": "bcd9b2a8",
   "metadata": {},
   "outputs": [],
   "source": [
    "names = []\n",
    "for ii in frames: \n",
    "    name = ii.find('span').text\n",
    "    print(names)"
   ]
  },
  {
   "cell_type": "code",
   "execution_count": null,
   "id": "a52560e6",
   "metadata": {},
   "outputs": [],
   "source": []
  }
 ],
 "metadata": {
  "kernelspec": {
   "display_name": "Python 3 (ipykernel)",
   "language": "python",
   "name": "python3"
  },
  "language_info": {
   "codemirror_mode": {
    "name": "ipython",
    "version": 3
   },
   "file_extension": ".py",
   "mimetype": "text/x-python",
   "name": "python",
   "nbconvert_exporter": "python",
   "pygments_lexer": "ipython3",
   "version": "3.11.4"
  }
 },
 "nbformat": 4,
 "nbformat_minor": 5
}
